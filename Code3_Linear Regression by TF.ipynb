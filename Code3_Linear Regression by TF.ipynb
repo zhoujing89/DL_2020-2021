{
 "cells": [
  {
   "cell_type": "markdown",
   "metadata": {},
   "source": [
    "### TensorFlow实现线性回归：美食评分案例"
   ]
  },
  {
   "cell_type": "code",
   "execution_count": null,
   "metadata": {},
   "outputs": [],
   "source": [
    "import pandas as pd\n",
    "MasterFile=pd.read_csv('./FoodScore.csv') \n",
    "print(MasterFile.shape)\n",
    "MasterFile[0:5]"
   ]
  },
  {
   "cell_type": "code",
   "execution_count": null,
   "metadata": {},
   "outputs": [],
   "source": [
    "MasterFile.hist()"
   ]
  },
  {
   "cell_type": "code",
   "execution_count": null,
   "metadata": {},
   "outputs": [],
   "source": [
    "import numpy as np\n",
    "FileNames=MasterFile['ID']\n",
    "N=len(FileNames)\n",
    "Y=np.array(MasterFile['score']).reshape([N,1])\n",
    "#Y=(Y-np.mean(Y))/np.std(Y)"
   ]
  },
  {
   "cell_type": "code",
   "execution_count": null,
   "metadata": {},
   "outputs": [],
   "source": [
    "from PIL import Image\n",
    "\n",
    "IMSIZE=128\n",
    "X=np.zeros([N,IMSIZE,IMSIZE,3])\n",
    "for i in range(N):\n",
    "    MyFile=FileNames[i]\n",
    "    Im=Image.open('../case3-food/data/'+MyFile+'.jpg')\n",
    "    Im=Im.resize([IMSIZE,IMSIZE])\n",
    "    Im=np.array(Im)/255\n",
    "    X[i,]=Im"
   ]
  },
  {
   "cell_type": "code",
   "execution_count": null,
   "metadata": {},
   "outputs": [],
   "source": [
    "from matplotlib import pyplot as plt\n",
    "plt.figure()\n",
    "fig,ax=plt.subplots(2,5)\n",
    "fig.set_figheight(7.5)\n",
    "fig.set_figwidth(15)\n",
    "ax=ax.flatten()\n",
    "for i in range(10):\n",
    "    ax[i].imshow(X[i,:,:,:])\n",
    "    ax[i].set_title(np.round(Y[i],2))"
   ]
  },
  {
   "cell_type": "code",
   "execution_count": null,
   "metadata": {},
   "outputs": [],
   "source": [
    "from sklearn.cross_validation import train_test_split\n",
    "X0,X1,Y0,Y1=train_test_split(X,Y,test_size=0.5,random_state=0)"
   ]
  },
  {
   "cell_type": "code",
   "execution_count": null,
   "metadata": {},
   "outputs": [],
   "source": [
    "from keras.layers import Dense, Flatten, Input\n",
    "from keras import Model\n",
    "input_layer=Input([IMSIZE,IMSIZE,3])\n",
    "x=input_layer\n",
    "x=Flatten()(x)\n",
    "x=Dense(1)(x)\n",
    "output_layer=x\n",
    "model=Model(input_layer,output_layer)\n",
    "model.summary()"
   ]
  },
  {
   "cell_type": "code",
   "execution_count": null,
   "metadata": {},
   "outputs": [],
   "source": [
    "from keras.optimizers import Adam\n",
    "model.compile(loss='mse',optimizer=Adam(lr=0.001),metrics=['mse'])"
   ]
  },
  {
   "cell_type": "code",
   "execution_count": null,
   "metadata": {},
   "outputs": [],
   "source": [
    "model.fit(X0,Y0,validation_data=[X1,Y1],batch_size=100,epochs=100)"
   ]
  },
  {
   "cell_type": "code",
   "execution_count": null,
   "metadata": {},
   "outputs": [],
   "source": [
    "MyPic=Image.open('mypic.jpg')\n",
    "MyPic\n",
    "MyPic=MyPic.resize((IMSIZE,IMSIZE))        \n",
    "MyPic=np.array(MyPic)/255                  \n",
    "MyPic=MyPic.reshape((1,IMSIZE,IMSIZE,3))   \n",
    "model.predict(MyPic)  "
   ]
  }
 ],
 "metadata": {
  "kernelspec": {
   "display_name": "Python 3",
   "language": "python",
   "name": "python3"
  },
  "language_info": {
   "codemirror_mode": {
    "name": "ipython",
    "version": 3
   },
   "file_extension": ".py",
   "mimetype": "text/x-python",
   "name": "python",
   "nbconvert_exporter": "python",
   "pygments_lexer": "ipython3",
   "version": "3.7.6"
  }
 },
 "nbformat": 4,
 "nbformat_minor": 2
}
